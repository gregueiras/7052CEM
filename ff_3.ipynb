{
  "nbformat": 4,
  "nbformat_minor": 0,
  "metadata": {
    "colab": {
      "name": "ff_3.ipynb",
      "provenance": [],
      "authorship_tag": "ABX9TyPLa8e5xqrK6KfqFqOtikRN",
      "include_colab_link": true
    },
    "kernelspec": {
      "display_name": "Python 3",
      "name": "python3"
    },
    "language_info": {
      "name": "python"
    }
  },
  "cells": [
    {
      "cell_type": "markdown",
      "metadata": {
        "id": "view-in-github",
        "colab_type": "text"
      },
      "source": [
        "<a href=\"https://colab.research.google.com/github/gregueiras/7052CEM/blob/master/ff_3.ipynb\" target=\"_parent\"><img src=\"https://colab.research.google.com/assets/colab-badge.svg\" alt=\"Open In Colab\"/></a>"
      ]
    },
    {
      "cell_type": "code",
      "metadata": {
        "id": "fy1EjtY3NoqZ"
      },
      "source": [
        "from src.projects import Projects\n",
        "from src.experiments import SIMBED_Experiments, SIMBEDP_Experiments, get_nodes\n",
        "from src.node_location import get_location, get_distance\n",
        "from src.experimentCFG import get_configs, ExperimentCFG\n",
        "from src.util import load_data_path\n",
        "from src.util_rss import load_rss\n",
        "from src.path_loss import friis, log_distance, gammas\n",
        "from src.util_ai import cv, plot_prediction, scatter_distance, evaluate_model, wrap_keras, wrap_sklearn\n",
        "from src.models import baseline_model, n1\n",
        "from src.final import full_pipeline, fast_fading_model\n",
        "from src.fast_fading import plot_best_distributions, best_fit_distribution\n",
        "from datetime import datetime\n",
        "from typing import List\n",
        "import os\n",
        "from IPython.display import display\n",
        "\n",
        "import numba\n",
        "from numba import jit\n",
        "import seaborn as sns\n",
        "import numpy as np\n",
        "import pandas as pd\n",
        "import matplotlib.pyplot as plt\n",
        "from scipy import stats\n",
        "from sklearn import linear_model, svm\n",
        "from sklearn.pipeline import Pipeline, make_pipeline\n",
        "from sklearn.metrics import mean_squared_error\n",
        "from sklearn.preprocessing import StandardScaler\n",
        "from sklearn.model_selection import train_test_split, cross_validate, StratifiedKFold, TimeSeriesSplit, RandomizedSearchCV, GridSearchCV\n",
        "from sklearn.model_selection import cross_val_score\n",
        "from sklearn.model_selection import KFold\n",
        "from sklearn.neighbors import LocalOutlierFactor\n",
        "from sklearn.compose import TransformedTargetRegressor\n",
        "import itertools\n",
        "\n",
        "from math import sqrt\n",
        "\n",
        "import tensorflow as tf\n",
        "from tensorflow import keras\n",
        "from keras.models import Sequential\n",
        "from keras.layers import Dense\n",
        "from keras.wrappers.scikit_learn import KerasRegressor\n",
        "from keras.callbacks import TensorBoard\n",
        "\n",
        "import xgboost as xg\n",
        "\n",
        "plt.rcParams['figure.figsize'] = [15, 8]\n",
        "ML_KEY = \"TS-ML\""
      ],
      "execution_count": 1,
      "outputs": []
    },
    {
      "cell_type": "code",
      "metadata": {
        "colab": {
          "base_uri": "https://localhost:8080/",
          "height": 204
        },
        "id": "VWis-r1jNqaa",
        "outputId": "98d9a426-8734-4793-dd3a-44a11e0b71d2"
      },
      "source": [
        "proj = Projects.SIMBED\n",
        "exp = SIMBED_Experiments._3\n",
        "\n",
        "cfgs = get_configs(project=proj, experiment=exp)\n",
        "data = load_rss(cfgs, 0.2, sec_avg=False)\n",
        "\n",
        "display(data.head())"
      ],
      "execution_count": 2,
      "outputs": [
        {
          "output_type": "display_data",
          "data": {
            "text/html": [
              "<div>\n",
              "<style scoped>\n",
              "    .dataframe tbody tr th:only-of-type {\n",
              "        vertical-align: middle;\n",
              "    }\n",
              "\n",
              "    .dataframe tbody tr th {\n",
              "        vertical-align: top;\n",
              "    }\n",
              "\n",
              "    .dataframe thead th {\n",
              "        text-align: right;\n",
              "    }\n",
              "</style>\n",
              "<table border=\"1\" class=\"dataframe\">\n",
              "  <thead>\n",
              "    <tr style=\"text-align: right;\">\n",
              "      <th></th>\n",
              "      <th>distance</th>\n",
              "      <th>friis</th>\n",
              "      <th>log_d_1.7</th>\n",
              "      <th>log_d_2.0</th>\n",
              "      <th>log_d_2.5</th>\n",
              "      <th>PL</th>\n",
              "    </tr>\n",
              "  </thead>\n",
              "  <tbody>\n",
              "    <tr>\n",
              "      <th>0</th>\n",
              "      <td>5.85730</td>\n",
              "      <td>-62.149132</td>\n",
              "      <td>-65.846039</td>\n",
              "      <td>-62.149132</td>\n",
              "      <td>-55.987617</td>\n",
              "      <td>-71.0</td>\n",
              "    </tr>\n",
              "    <tr>\n",
              "      <th>1</th>\n",
              "      <td>6.91885</td>\n",
              "      <td>-63.595860</td>\n",
              "      <td>-67.075760</td>\n",
              "      <td>-63.595860</td>\n",
              "      <td>-57.796032</td>\n",
              "      <td>-70.0</td>\n",
              "    </tr>\n",
              "    <tr>\n",
              "      <th>2</th>\n",
              "      <td>2.28478</td>\n",
              "      <td>-53.972069</td>\n",
              "      <td>-58.895538</td>\n",
              "      <td>-53.972069</td>\n",
              "      <td>-45.766293</td>\n",
              "      <td>-67.0</td>\n",
              "    </tr>\n",
              "    <tr>\n",
              "      <th>3</th>\n",
              "      <td>5.00069</td>\n",
              "      <td>-60.775780</td>\n",
              "      <td>-64.678688</td>\n",
              "      <td>-60.775780</td>\n",
              "      <td>-54.270931</td>\n",
              "      <td>-69.0</td>\n",
              "    </tr>\n",
              "    <tr>\n",
              "      <th>4</th>\n",
              "      <td>2.27958</td>\n",
              "      <td>-53.952278</td>\n",
              "      <td>-58.878716</td>\n",
              "      <td>-53.952278</td>\n",
              "      <td>-45.741554</td>\n",
              "      <td>-71.0</td>\n",
              "    </tr>\n",
              "  </tbody>\n",
              "</table>\n",
              "</div>"
            ],
            "text/plain": [
              "   distance      friis  log_d_1.7  log_d_2.0  log_d_2.5    PL\n",
              "0   5.85730 -62.149132 -65.846039 -62.149132 -55.987617 -71.0\n",
              "1   6.91885 -63.595860 -67.075760 -63.595860 -57.796032 -70.0\n",
              "2   2.28478 -53.972069 -58.895538 -53.972069 -45.766293 -67.0\n",
              "3   5.00069 -60.775780 -64.678688 -60.775780 -54.270931 -69.0\n",
              "4   2.27958 -53.952278 -58.878716 -53.952278 -45.741554 -71.0"
            ]
          },
          "metadata": {
            "tags": []
          }
        }
      ]
    },
    {
      "cell_type": "code",
      "metadata": {
        "colab": {
          "base_uri": "https://localhost:8080/",
          "height": 204
        },
        "id": "gpFEqX6zg6qS",
        "outputId": "938da73d-b905-47f5-b545-089487889c95"
      },
      "source": [
        "df_means = data.groupby(\"distance\").mean()\n",
        "df_means = df_means.reset_index()\n",
        "\n",
        "@jit(nopython=True)\n",
        "def calc_ff(pl, pl_mean):\n",
        "  output = np.zeros_like(pl)\n",
        "  i = 0\n",
        "  for p, p_m in zip(pl, pl_mean):\n",
        "    output[i] = p - p_m\n",
        "    i += 1\n",
        "  return output\n",
        "\n",
        "\n",
        "df_means[\"PL_mean\"] = df_means[\"PL\"]\n",
        "df_means = df_means[[\"distance\", \"PL_mean\"]]\n",
        "\n",
        "data.set_index(\"distance\", inplace=True)\n",
        "df_means.set_index(\"distance\", inplace=True)\n",
        "\n",
        "data = data.join(df_means)\n",
        "\n",
        "data['PL_ff'] = calc_ff(data.PL.values, data.PL_mean.values)\n",
        "data = data.drop([\"PL_mean\"], axis=1)\n",
        "\n",
        "data = data.reset_index()\n",
        "\n",
        "data.head()"
      ],
      "execution_count": 3,
      "outputs": [
        {
          "output_type": "execute_result",
          "data": {
            "text/html": [
              "<div>\n",
              "<style scoped>\n",
              "    .dataframe tbody tr th:only-of-type {\n",
              "        vertical-align: middle;\n",
              "    }\n",
              "\n",
              "    .dataframe tbody tr th {\n",
              "        vertical-align: top;\n",
              "    }\n",
              "\n",
              "    .dataframe thead th {\n",
              "        text-align: right;\n",
              "    }\n",
              "</style>\n",
              "<table border=\"1\" class=\"dataframe\">\n",
              "  <thead>\n",
              "    <tr style=\"text-align: right;\">\n",
              "      <th></th>\n",
              "      <th>distance</th>\n",
              "      <th>friis</th>\n",
              "      <th>log_d_1.7</th>\n",
              "      <th>log_d_2.0</th>\n",
              "      <th>log_d_2.5</th>\n",
              "      <th>PL</th>\n",
              "      <th>PL_ff</th>\n",
              "    </tr>\n",
              "  </thead>\n",
              "  <tbody>\n",
              "    <tr>\n",
              "      <th>0</th>\n",
              "      <td>2.0547</td>\n",
              "      <td>-53.050152</td>\n",
              "      <td>-58.111904</td>\n",
              "      <td>-53.050152</td>\n",
              "      <td>-44.613892</td>\n",
              "      <td>-75.0</td>\n",
              "      <td>1.136986</td>\n",
              "    </tr>\n",
              "    <tr>\n",
              "      <th>1</th>\n",
              "      <td>2.0547</td>\n",
              "      <td>-53.050152</td>\n",
              "      <td>-58.111904</td>\n",
              "      <td>-53.050152</td>\n",
              "      <td>-44.613892</td>\n",
              "      <td>-76.0</td>\n",
              "      <td>0.136986</td>\n",
              "    </tr>\n",
              "    <tr>\n",
              "      <th>2</th>\n",
              "      <td>2.0547</td>\n",
              "      <td>-53.050152</td>\n",
              "      <td>-58.111904</td>\n",
              "      <td>-53.050152</td>\n",
              "      <td>-44.613892</td>\n",
              "      <td>-76.0</td>\n",
              "      <td>0.136986</td>\n",
              "    </tr>\n",
              "    <tr>\n",
              "      <th>3</th>\n",
              "      <td>2.0547</td>\n",
              "      <td>-53.050152</td>\n",
              "      <td>-58.111904</td>\n",
              "      <td>-53.050152</td>\n",
              "      <td>-44.613892</td>\n",
              "      <td>-77.0</td>\n",
              "      <td>-0.863014</td>\n",
              "    </tr>\n",
              "    <tr>\n",
              "      <th>4</th>\n",
              "      <td>2.0547</td>\n",
              "      <td>-53.050152</td>\n",
              "      <td>-58.111904</td>\n",
              "      <td>-53.050152</td>\n",
              "      <td>-44.613892</td>\n",
              "      <td>-78.0</td>\n",
              "      <td>-1.863014</td>\n",
              "    </tr>\n",
              "  </tbody>\n",
              "</table>\n",
              "</div>"
            ],
            "text/plain": [
              "   distance      friis  log_d_1.7  log_d_2.0  log_d_2.5    PL     PL_ff\n",
              "0    2.0547 -53.050152 -58.111904 -53.050152 -44.613892 -75.0  1.136986\n",
              "1    2.0547 -53.050152 -58.111904 -53.050152 -44.613892 -76.0  0.136986\n",
              "2    2.0547 -53.050152 -58.111904 -53.050152 -44.613892 -76.0  0.136986\n",
              "3    2.0547 -53.050152 -58.111904 -53.050152 -44.613892 -77.0 -0.863014\n",
              "4    2.0547 -53.050152 -58.111904 -53.050152 -44.613892 -78.0 -1.863014"
            ]
          },
          "metadata": {
            "tags": []
          },
          "execution_count": 3
        }
      ]
    },
    {
      "cell_type": "code",
      "metadata": {
        "id": "lM6d6ApwO7xn",
        "colab": {
          "base_uri": "https://localhost:8080/",
          "height": 1000
        },
        "outputId": "fc180033-7c1a-455d-b221-90c7a44f890f"
      },
      "source": [
        "plot_best_distributions(proj, exp, data[\"PL\"], bins=200)"
      ],
      "execution_count": 4,
      "outputs": [
        {
          "output_type": "stream",
          "text": [
            "sse: norm_gen\t2.5167153693318083\n",
            "sse: rice_gen\t2.528955299634514\n",
            "sse: rayleigh_gen\t2.6303143517057292\n"
          ],
          "name": "stdout"
        },
        {
          "output_type": "display_data",
          "data": {
            "image/png": "[encoded data removed]",
            "text/plain": [
              "<Figure size 864x576 with 1 Axes>"
            ]
          },
          "metadata": {
            "tags": [],
            "needs_background": "light"
          }
        },
        {
          "output_type": "display_data",
          "data": {
            "image/png": "[encoded data removed]",
            "text/plain": [
              "<Figure size 432x288 with 1 Axes>"
            ]
          },
          "metadata": {
            "tags": [],
            "needs_background": "light"
          }
        },
        {
          "output_type": "display_data",
          "data": {
            "text/html": [
              "<div>\n",
              "<style scoped>\n",
              "    .dataframe tbody tr th:only-of-type {\n",
              "        vertical-align: middle;\n",
              "    }\n",
              "\n",
              "    .dataframe tbody tr th {\n",
              "        vertical-align: top;\n",
              "    }\n",
              "\n",
              "    .dataframe thead tr th {\n",
              "        text-align: left;\n",
              "    }\n",
              "\n",
              "    .dataframe thead tr:last-of-type th {\n",
              "        text-align: right;\n",
              "    }\n",
              "</style>\n",
              "<table border=\"1\" class=\"dataframe\">\n",
              "  <thead>\n",
              "    <tr>\n",
              "      <th></th>\n",
              "      <th colspan=\"8\" halign=\"left\">value</th>\n",
              "    </tr>\n",
              "    <tr>\n",
              "      <th></th>\n",
              "      <th>count</th>\n",
              "      <th>mean</th>\n",
              "      <th>std</th>\n",
              "      <th>min</th>\n",
              "      <th>25%</th>\n",
              "      <th>50%</th>\n",
              "      <th>75%</th>\n",
              "      <th>max</th>\n",
              "    </tr>\n",
              "    <tr>\n",
              "      <th>alg</th>\n",
              "      <th></th>\n",
              "      <th></th>\n",
              "      <th></th>\n",
              "      <th></th>\n",
              "      <th></th>\n",
              "      <th></th>\n",
              "      <th></th>\n",
              "      <th></th>\n",
              "    </tr>\n",
              "  </thead>\n",
              "  <tbody>\n",
              "    <tr>\n",
              "      <th>PL</th>\n",
              "      <td>3443250.0</td>\n",
              "      <td>-70.705286</td>\n",
              "      <td>4.138616</td>\n",
              "      <td>-86.000000</td>\n",
              "      <td>-74.000000</td>\n",
              "      <td>-71.000000</td>\n",
              "      <td>-68.000000</td>\n",
              "      <td>-56.000000</td>\n",
              "    </tr>\n",
              "    <tr>\n",
              "      <th>norm</th>\n",
              "      <td>3443250.0</td>\n",
              "      <td>-70.700140</td>\n",
              "      <td>4.137422</td>\n",
              "      <td>-91.288012</td>\n",
              "      <td>-73.490776</td>\n",
              "      <td>-70.698151</td>\n",
              "      <td>-67.911236</td>\n",
              "      <td>-48.480763</td>\n",
              "    </tr>\n",
              "  </tbody>\n",
              "</table>\n",
              "</div>"
            ],
            "text/plain": [
              "          value                       ...                                 \n",
              "          count       mean       std  ...        50%        75%        max\n",
              "alg                                   ...                                 \n",
              "PL    3443250.0 -70.705286  4.138616  ... -71.000000 -68.000000 -56.000000\n",
              "norm  3443250.0 -70.700140  4.137422  ... -70.698151 -67.911236 -48.480763\n",
              "\n",
              "[2 rows x 8 columns]"
            ]
          },
          "metadata": {
            "tags": []
          }
        },
        {
          "output_type": "display_data",
          "data": {
            "image/png": "[encoded data removed]",
            "text/plain": [
              "<Figure size 864x576 with 1 Axes>"
            ]
          },
          "metadata": {
            "tags": [],
            "needs_background": "light"
          }
        },
        {
          "output_type": "display_data",
          "data": {
            "text/plain": [
              "<Figure size 864x576 with 0 Axes>"
            ]
          },
          "metadata": {
            "tags": []
          }
        }
      ]
    },
    {
      "cell_type": "code",
      "metadata": {
        "id": "JGTPdYvj5pTc",
        "colab": {
          "base_uri": "https://localhost:8080/",
          "height": 1000
        },
        "outputId": "b4f4d14f-b4f8-4aea-b626-a2ea918b74cf"
      },
      "source": [
        "plot_best_distributions(proj, exp, data[\"PL_ff\"], bins=200)"
      ],
      "execution_count": 5,
      "outputs": [
        {
          "output_type": "stream",
          "text": [
            "sse: norm_gen\t0.04729022257933929\n",
            "sse: rice_gen\t0.16143770616632722\n",
            "sse: rayleigh_gen\t0.573165942228289\n"
          ],
          "name": "stdout"
        },
        {
          "output_type": "display_data",
          "data": {
            "image/png": "[encoded data removed]",
            "text/plain": [
              "<Figure size 864x576 with 1 Axes>"
            ]
          },
          "metadata": {
            "tags": [],
            "needs_background": "light"
          }
        },
        {
          "output_type": "display_data",
          "data": {
            "image/png": "[encoded data removed]",
            "text/plain": [
              "<Figure size 432x288 with 1 Axes>"
            ]
          },
          "metadata": {
            "tags": [],
            "needs_background": "light"
          }
        },
        {
          "output_type": "display_data",
          "data": {
            "text/html": [
              "<div>\n",
              "<style scoped>\n",
              "    .dataframe tbody tr th:only-of-type {\n",
              "        vertical-align: middle;\n",
              "    }\n",
              "\n",
              "    .dataframe tbody tr th {\n",
              "        vertical-align: top;\n",
              "    }\n",
              "\n",
              "    .dataframe thead tr th {\n",
              "        text-align: left;\n",
              "    }\n",
              "\n",
              "    .dataframe thead tr:last-of-type th {\n",
              "        text-align: right;\n",
              "    }\n",
              "</style>\n",
              "<table border=\"1\" class=\"dataframe\">\n",
              "  <thead>\n",
              "    <tr>\n",
              "      <th></th>\n",
              "      <th colspan=\"8\" halign=\"left\">value</th>\n",
              "    </tr>\n",
              "    <tr>\n",
              "      <th></th>\n",
              "      <th>count</th>\n",
              "      <th>mean</th>\n",
              "      <th>std</th>\n",
              "      <th>min</th>\n",
              "      <th>25%</th>\n",
              "      <th>50%</th>\n",
              "      <th>75%</th>\n",
              "      <th>max</th>\n",
              "    </tr>\n",
              "    <tr>\n",
              "      <th>alg</th>\n",
              "      <th></th>\n",
              "      <th></th>\n",
              "      <th></th>\n",
              "      <th></th>\n",
              "      <th></th>\n",
              "      <th></th>\n",
              "      <th></th>\n",
              "      <th></th>\n",
              "    </tr>\n",
              "  </thead>\n",
              "  <tbody>\n",
              "    <tr>\n",
              "      <th>PL</th>\n",
              "      <td>3443250.0</td>\n",
              "      <td>3.073982e-07</td>\n",
              "      <td>2.051662</td>\n",
              "      <td>-15.084473</td>\n",
              "      <td>-1.246811</td>\n",
              "      <td>0.067795</td>\n",
              "      <td>1.227676</td>\n",
              "      <td>18.356354</td>\n",
              "    </tr>\n",
              "    <tr>\n",
              "      <th>norm</th>\n",
              "      <td>3443250.0</td>\n",
              "      <td>-8.861090e-04</td>\n",
              "      <td>2.052323</td>\n",
              "      <td>-11.451240</td>\n",
              "      <td>-1.385719</td>\n",
              "      <td>0.000508</td>\n",
              "      <td>1.383799</td>\n",
              "      <td>10.272943</td>\n",
              "    </tr>\n",
              "  </tbody>\n",
              "</table>\n",
              "</div>"
            ],
            "text/plain": [
              "          value                          ...                               \n",
              "          count          mean       std  ...       50%       75%        max\n",
              "alg                                      ...                               \n",
              "PL    3443250.0  3.073982e-07  2.051662  ...  0.067795  1.227676  18.356354\n",
              "norm  3443250.0 -8.861090e-04  2.052323  ...  0.000508  1.383799  10.272943\n",
              "\n",
              "[2 rows x 8 columns]"
            ]
          },
          "metadata": {
            "tags": []
          }
        },
        {
          "output_type": "display_data",
          "data": {
            "image/png": "[encoded data removed]",
            "text/plain": [
              "<Figure size 864x576 with 1 Axes>"
            ]
          },
          "metadata": {
            "tags": [],
            "needs_background": "light"
          }
        },
        {
          "output_type": "display_data",
          "data": {
            "text/plain": [
              "<Figure size 864x576 with 0 Axes>"
            ]
          },
          "metadata": {
            "tags": []
          }
        }
      ]
    },
    {
      "cell_type": "code",
      "metadata": {
        "id": "mNhOVPUs92H4"
      },
      "source": [
        ""
      ],
      "execution_count": 5,
      "outputs": []
    },
    {
      "cell_type": "code",
      "metadata": {
        "id": "wDL1lba0fAC1",
        "colab": {
          "base_uri": "https://localhost:8080/",
          "height": 382
        },
        "outputId": "134585c6-5cfd-429d-b2b8-1e99039022c4"
      },
      "source": [
        "model = fast_fading_model(\"AAA\", data, rebuild=True)\n",
        "\n",
        "model(10)"
      ],
      "execution_count": 6,
      "outputs": [
        {
          "output_type": "stream",
          "text": [
            "sse: norm_gen\t0.04729022257933929\n",
            "sse: rice_gen\t0.16143770616632722\n",
            "sse: rayleigh_gen\t0.573165942228289\n"
          ],
          "name": "stdout"
        },
        {
          "output_type": "display_data",
          "data": {
            "image/png": "[encoded data removed]",
            "text/plain": [
              "<Figure size 432x288 with 1 Axes>"
            ]
          },
          "metadata": {
            "tags": [],
            "needs_background": "light"
          }
        },
        {
          "output_type": "stream",
          "text": [
            "<scipy.stats._continuous_distns.norm_gen object at 0x7ff70438bd10>\n"
          ],
          "name": "stdout"
        },
        {
          "output_type": "execute_result",
          "data": {
            "text/plain": [
              "array([ 0.84421104, -2.65316083,  2.41648706,  0.31813029,  1.38652415,\n",
              "       -1.27939846,  4.68850937,  2.01754853, -1.46264003,  2.56406399])"
            ]
          },
          "metadata": {
            "tags": []
          },
          "execution_count": 6
        }
      ]
    },
    {
      "cell_type": "code",
      "metadata": {
        "id": "gydJJ-G38qve"
      },
      "source": [
        "def load_single_run(proj, exp, cfg_index, train_filter=None, domain_filter=None):\n",
        "  cfgs = get_configs(project=proj, experiment=exp)\n",
        "  cfg = [cfgs[cfg_index]]\n",
        "\n",
        "  df = load_rss(cfg, 1, use_cache=False)\n",
        "  df_r = load_rss(cfg, 1, sec_avg=False, use_cache=False)\n",
        "  \n",
        "  if (train_filter is not None):\n",
        "    df = train_filter(df)\n",
        "    df_r = train_filter(df_r)\n",
        "\n",
        "\n",
        "  if (domain_filter is not None):\n",
        "      df = domain_filter(df)\n",
        "      df_r = domain_filter(df_r)\n",
        "\n",
        "  return cfg[0], df, df_r"
      ],
      "execution_count": 7,
      "outputs": []
    },
    {
      "cell_type": "code",
      "metadata": {
        "id": "4VQ94cgY8rZU",
        "colab": {
          "base_uri": "https://localhost:8080/",
          "height": 289
        },
        "outputId": "90a1c02b-1a08-410e-d6e0-501d01ac4b90"
      },
      "source": [
        "cfg, df, df_r = load_single_run(proj, exp, 20)\n",
        "\n",
        "display(df_r.head())\n",
        "\n",
        "display(df.distance.max(), len(df))\n",
        "display(df_r.distance.max(), len(df_r))"
      ],
      "execution_count": 8,
      "outputs": [
        {
          "output_type": "stream",
          "text": [
            "1/1\t07022019_04.49.12"
          ],
          "name": "stdout"
        },
        {
          "output_type": "display_data",
          "data": {
            "text/html": [
              "<div>\n",
              "<style scoped>\n",
              "    .dataframe tbody tr th:only-of-type {\n",
              "        vertical-align: middle;\n",
              "    }\n",
              "\n",
              "    .dataframe tbody tr th {\n",
              "        vertical-align: top;\n",
              "    }\n",
              "\n",
              "    .dataframe thead th {\n",
              "        text-align: right;\n",
              "    }\n",
              "</style>\n",
              "<table border=\"1\" class=\"dataframe\">\n",
              "  <thead>\n",
              "    <tr style=\"text-align: right;\">\n",
              "      <th></th>\n",
              "      <th>distance</th>\n",
              "      <th>friis</th>\n",
              "      <th>log_d_1.7</th>\n",
              "      <th>log_d_2.0</th>\n",
              "      <th>log_d_2.5</th>\n",
              "      <th>PL</th>\n",
              "    </tr>\n",
              "  </thead>\n",
              "  <tbody>\n",
              "    <tr>\n",
              "      <th>0</th>\n",
              "      <td>6.91885</td>\n",
              "      <td>-63.595861</td>\n",
              "      <td>-67.075759</td>\n",
              "      <td>-63.595861</td>\n",
              "      <td>-57.796030</td>\n",
              "      <td>-70.0</td>\n",
              "    </tr>\n",
              "    <tr>\n",
              "      <th>1</th>\n",
              "      <td>7.48600</td>\n",
              "      <td>-64.280179</td>\n",
              "      <td>-67.657429</td>\n",
              "      <td>-64.280179</td>\n",
              "      <td>-58.651428</td>\n",
              "      <td>-68.0</td>\n",
              "    </tr>\n",
              "    <tr>\n",
              "      <th>2</th>\n",
              "      <td>2.75681</td>\n",
              "      <td>-55.603319</td>\n",
              "      <td>-60.282098</td>\n",
              "      <td>-55.603319</td>\n",
              "      <td>-47.805353</td>\n",
              "      <td>-71.0</td>\n",
              "    </tr>\n",
              "    <tr>\n",
              "      <th>3</th>\n",
              "      <td>6.83403</td>\n",
              "      <td>-63.488720</td>\n",
              "      <td>-66.984689</td>\n",
              "      <td>-63.488720</td>\n",
              "      <td>-57.662104</td>\n",
              "      <td>-73.0</td>\n",
              "    </tr>\n",
              "    <tr>\n",
              "      <th>4</th>\n",
              "      <td>7.40370</td>\n",
              "      <td>-64.184159</td>\n",
              "      <td>-67.575812</td>\n",
              "      <td>-64.184159</td>\n",
              "      <td>-58.531403</td>\n",
              "      <td>-71.0</td>\n",
              "    </tr>\n",
              "  </tbody>\n",
              "</table>\n",
              "</div>"
            ],
            "text/plain": [
              "   distance      friis  log_d_1.7  log_d_2.0  log_d_2.5    PL\n",
              "0   6.91885 -63.595861 -67.075759 -63.595861 -57.796030 -70.0\n",
              "1   7.48600 -64.280179 -67.657429 -64.280179 -58.651428 -68.0\n",
              "2   2.75681 -55.603319 -60.282098 -55.603319 -47.805353 -71.0\n",
              "3   6.83403 -63.488720 -66.984689 -63.488720 -57.662104 -73.0\n",
              "4   7.40370 -64.184159 -67.575812 -64.184159 -58.531403 -71.0"
            ]
          },
          "metadata": {
            "tags": []
          }
        },
        {
          "output_type": "display_data",
          "data": {
            "text/plain": [
              "24.1042"
            ]
          },
          "metadata": {
            "tags": []
          }
        },
        {
          "output_type": "display_data",
          "data": {
            "text/plain": [
              "357"
            ]
          },
          "metadata": {
            "tags": []
          }
        },
        {
          "output_type": "display_data",
          "data": {
            "text/plain": [
              "17.6409"
            ]
          },
          "metadata": {
            "tags": []
          }
        },
        {
          "output_type": "display_data",
          "data": {
            "text/plain": [
              "164581"
            ]
          },
          "metadata": {
            "tags": []
          }
        }
      ]
    }
  ]
}